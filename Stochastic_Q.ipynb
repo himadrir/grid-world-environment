{
  "cells": [
    {
      "cell_type": "code",
      "source": [
        "##\"I certify that the code and data in this assignment were generated independently, using only the tools and resources defined in the course and that I did not receive any external help, coaching or contributions during the production of this work.\""
      ],
      "metadata": {
        "id": "_myralTTpY91"
      },
      "execution_count": null,
      "outputs": []
    },
    {
      "cell_type": "code",
      "execution_count": null,
      "metadata": {
        "id": "vzLSDtlzL3mt"
      },
      "outputs": [],
      "source": [
        "import numpy as np\n",
        "import matplotlib.pyplot as plt\n",
        "import gym\n",
        "from gym import spaces"
      ]
    },
    {
      "cell_type": "code",
      "execution_count": null,
      "metadata": {
        "id": "PfOnKRT7L46q"
      },
      "outputs": [],
      "source": [
        "from google.colab import widgets\n",
        "import time"
      ]
    },
    {
      "cell_type": "code",
      "execution_count": null,
      "metadata": {
        "id": "vNy_7i2jL8VQ"
      },
      "outputs": [],
      "source": [
        "class GridEnvironment(gym.Env):\n",
        "    metadata = { 'render.modes': [] }\n",
        "    \n",
        "    def __init__(self):\n",
        "        self.observation_space = spaces.Discrete(16)\n",
        "        self.action_space = spaces.Discrete(4)\n",
        "        self.max_timesteps = 170\n",
        "        self.reward= 0\n",
        "\n",
        "    def reset(self):\n",
        "        self.timestep = 0        \n",
        "        self.agent_pos = [0, 0]\n",
        "        self.goal_pos = [3, 3]\n",
        "        self.wall1 = [0,1]\n",
        "        self.wall2 = [0,3]\n",
        "        self.wall3 = [2,2]\n",
        "        self.wall4 = [3,0]\n",
        "        pos= self.agent_pos[0]*4+self.agent_pos[1]\n",
        "        self.state = np.zeros([4,4])\n",
        "        \n",
        "        self.state[tuple(self.goal_pos)] = 3\n",
        "        self.state[tuple(self.wall1)] = 5\n",
        "        self.state[tuple(self.wall2)] = 5\n",
        "        self.state[tuple(self.wall3)] = 5\n",
        "        self.state[tuple(self.wall4)] = 5\n",
        "        self.state[tuple(self.agent_pos)] = 1\n",
        "        self.reward=1\n",
        "        observation = self.state.flatten()\n",
        "        return pos\n",
        "    \n",
        "    def step(self, action):\n",
        "        if action == 0:\n",
        "          self.agent_pos[0] += 1\n",
        "          if self.agent_pos[0] == 4:\n",
        "            self.agent_pos[0] -= 1\n",
        "        if action == 1:\n",
        "          self.agent_pos[0] -= 1\n",
        "          if self.agent_pos[0] == -1:\n",
        "            self.agent_pos[0] += 1\n",
        "        if action == 2:\n",
        "          self.agent_pos[1] += 1\n",
        "          if self.agent_pos[1] == 4:\n",
        "            self.agent_pos[1] -= 1\n",
        "        if action == 3:\n",
        "          self.agent_pos[1] -= 1\n",
        "          if self.agent_pos[1] == -1:\n",
        "            self.agent_pos[1] += 1\n",
        "\n",
        "\n",
        "        state_table=np.array([[0,1,2,3],[4,5,6,7],[8,9,10,11],[12,13,14,15]])\n",
        "        new_pos = state_table[tuple(self.agent_pos)]\n",
        "        self.agent_pos = np.clip(self.agent_pos, 0, 3)\n",
        "        self.state = np.zeros((4,4))\n",
        "        self.state[tuple(self.agent_pos)] = 1\n",
        "        self.state[tuple(self.goal_pos)] = 3\n",
        "        \n",
        "        reward_table= np.array([[-1,-20,-1,-20],[-1,-1,-1,-1],[-1,-1,-20,-1],[-20,-1,-1,100]])\n",
        "        reward= reward_table[tuple(self.agent_pos)]\n",
        "        self.timestep += 1\n",
        "        done = True if new_pos == 15 else False #check if terminal or not \n",
        "        info = {}\n",
        "        return new_pos, reward, done, info\n",
        "        \n",
        "    def render(self):\n",
        "        \n",
        "        self.state[tuple(self.goal_pos)] = 3\n",
        "        self.state[tuple(self.wall1)] = 5\n",
        "        self.state[tuple(self.wall2)] = 5\n",
        "        self.state[tuple(self.wall3)] = 5\n",
        "        self.state[tuple(self.wall4)] = 5\n",
        "\n",
        "        self.state[tuple(self.agent_pos)] = 1\n",
        "        plt.imshow(self.state)\n",
        "\n",
        "    def stochastic(self, action):\n",
        "        if action == 0 :\n",
        "          return np.random.choice([0,1,2,3], p=[0.91, 0.03, 0.03, 0.03])\n",
        "\n",
        "        elif action == 1 :\n",
        "          return np.random.choice([0,1,2,3], p=[0.03, 0.91, 0.03, 0.03])  \n",
        "\n",
        "        elif action == 2 :\n",
        "          return np.random.choice([0,1,2,3], p=[0.03, 0.03, 0.91, 0.03])\n",
        "\n",
        "        elif action == 3 :\n",
        "          return np.random.choice([0,1,2,3], p=[0.03, 0.03, 0.03, 0.91])\n",
        "    "
      ]
    },
    {
      "cell_type": "code",
      "source": [
        "from matplotlib import figure\n",
        "env = GridEnvironment()\n",
        "# Q_Table\n",
        "q_table = np.zeros([env.observation_space.n, env.action_space.n])\n",
        "output_grid = widgets.Grid(1, 1)\n",
        "alpha = 0.1\n",
        "gamma = 0.65\n",
        "epsilon = 1\n",
        "\n",
        "\n",
        "total_epochs=0\n",
        "episodes=5000\n",
        "total_timestep = []\n",
        "total_reward = []\n",
        "total_epsilon = []\n",
        "total_steps = []\n",
        "all_epochs = 0\n",
        "\n",
        "\n",
        "for i in range(episodes):\n",
        "    state = env.reset()\n",
        "    r, epochs, reward, steps = 0, 0, 0, 0\n",
        "    done = False\n",
        "    \n",
        "    while not done:\n",
        "        if np.random.uniform(0, 1) < epsilon:\n",
        "            action = env.action_space.sample() # Explorative\n",
        "            steps += 1\n",
        "        else:\n",
        "            action = np.argmax(q_table[state]) # Exploitative \n",
        "            steps += 1\n",
        "        stochastic_action = env.stochastic(action)   #pass the action through a stochastic function, and use the updated action for the rest of the iteration\n",
        "        next_state, reward, done, info = env.step(stochastic_action) \n",
        "        \n",
        "        old_value = q_table[state, stochastic_action]\n",
        "        next_max = np.max(q_table[next_state])\n",
        "        \n",
        "        new_value = (1 - alpha) * old_value + alpha * (reward + gamma * next_max)\n",
        "        q_table[state, stochastic_action] = new_value\n",
        "\n",
        "        \n",
        "        state = next_state\n",
        "        epochs += 1\n",
        "        r+=reward\n",
        "             \n",
        "    total_timestep.append(epochs)\n",
        "    total_reward.append(r) \n",
        "    total_epochs += epochs\n",
        "    epsilon= np.exp(-4*i/episodes)  #increase value of 4 to increase the decay and vice-versa. Higher decay = more greedy actions will be preferred\n",
        "    total_epsilon.append(epsilon)     #store in an array so we can print a graph later on\n",
        "    total_steps.append(steps)\n",
        "\n",
        "\n",
        "\n",
        "\n",
        "print('TRAINING done!\\n')\n",
        "###       ADD PLOTS HERE\n",
        "plt.plot(total_reward) \n",
        "plt.title('Rewards vs Episodes')\n",
        "plt.xlabel('Episodes')\n",
        "plt.ylabel('Rewards')\n",
        "plt.figure()\n",
        "plt.plot(total_epsilon)\n",
        "plt.title('Epsilon Decay')\n",
        "plt.xlabel('Episodes')\n",
        "plt.ylabel('Episolon Value')\n",
        "plt.figure()         \n",
        "\n",
        "\n",
        "print(\"Q Table:\\n\", q_table)\n",
        "print(\"Steps per episode\", np.sum(total_steps)/episodes)\n",
        "print('Episodes done: ', episodes)\n",
        "\n",
        "plt.plot(total_steps)\n",
        "plt.title(\"Steps vs Episodes\")\n",
        "plt.xlabel('Episodes')\n",
        "plt.ylabel('Steps')\n",
        "plt.figure()\n",
        "\n",
        "\n"
      ],
      "metadata": {
        "colab": {
          "base_uri": "https://localhost:8080/",
          "height": 234
        },
        "id": "8-NTEtM5b9l-",
        "outputId": "5245cbb4-087c-47ee-9c82-88924fa28318"
      },
      "execution_count": null,
      "outputs": [
        {
          "output_type": "error",
          "ename": "NameError",
          "evalue": "ignored",
          "traceback": [
            "\u001b[0;31m---------------------------------------------------------------------------\u001b[0m",
            "\u001b[0;31mNameError\u001b[0m                                 Traceback (most recent call last)",
            "\u001b[0;32m<ipython-input-2-c047349e9288>\u001b[0m in \u001b[0;36m<module>\u001b[0;34m()\u001b[0m\n\u001b[1;32m      1\u001b[0m \u001b[0;32mfrom\u001b[0m \u001b[0mmatplotlib\u001b[0m \u001b[0;32mimport\u001b[0m \u001b[0mfigure\u001b[0m\u001b[0;34m\u001b[0m\u001b[0;34m\u001b[0m\u001b[0m\n\u001b[0;32m----> 2\u001b[0;31m \u001b[0menv\u001b[0m \u001b[0;34m=\u001b[0m \u001b[0mGridEnvironment\u001b[0m\u001b[0;34m(\u001b[0m\u001b[0;34m)\u001b[0m\u001b[0;34m\u001b[0m\u001b[0;34m\u001b[0m\u001b[0m\n\u001b[0m\u001b[1;32m      3\u001b[0m \u001b[0;31m# Q_Table\u001b[0m\u001b[0;34m\u001b[0m\u001b[0;34m\u001b[0m\u001b[0;34m\u001b[0m\u001b[0m\n\u001b[1;32m      4\u001b[0m \u001b[0mq_table\u001b[0m \u001b[0;34m=\u001b[0m \u001b[0mnp\u001b[0m\u001b[0;34m.\u001b[0m\u001b[0mzeros\u001b[0m\u001b[0;34m(\u001b[0m\u001b[0;34m[\u001b[0m\u001b[0menv\u001b[0m\u001b[0;34m.\u001b[0m\u001b[0mobservation_space\u001b[0m\u001b[0;34m.\u001b[0m\u001b[0mn\u001b[0m\u001b[0;34m,\u001b[0m \u001b[0menv\u001b[0m\u001b[0;34m.\u001b[0m\u001b[0maction_space\u001b[0m\u001b[0;34m.\u001b[0m\u001b[0mn\u001b[0m\u001b[0;34m]\u001b[0m\u001b[0;34m)\u001b[0m\u001b[0;34m\u001b[0m\u001b[0;34m\u001b[0m\u001b[0m\n\u001b[1;32m      5\u001b[0m \u001b[0moutput_grid\u001b[0m \u001b[0;34m=\u001b[0m \u001b[0mwidgets\u001b[0m\u001b[0;34m.\u001b[0m\u001b[0mGrid\u001b[0m\u001b[0;34m(\u001b[0m\u001b[0;36m1\u001b[0m\u001b[0;34m,\u001b[0m \u001b[0;36m1\u001b[0m\u001b[0;34m)\u001b[0m\u001b[0;34m\u001b[0m\u001b[0;34m\u001b[0m\u001b[0m\n",
            "\u001b[0;31mNameError\u001b[0m: name 'GridEnvironment' is not defined"
          ]
        }
      ]
    },
    {
      "cell_type": "code",
      "source": [
        "episodes = 10\n",
        "total_reward=[]\n",
        "tot_eps =[]\n",
        "total_eps = 0\n",
        "\n",
        "for eps in range(episodes):\n",
        "    r = 0\n",
        "    state = env.reset()\n",
        "    epochs, reward = 0, 0   \n",
        "    done = False    \n",
        "    while not done:\n",
        "        action = np.argmax(q_table[state])\n",
        "        stochastic_action = env.stochastic(action)\n",
        "        state, reward, done, info = env.step(stochastic_action)\n",
        "        r += reward    \n",
        "        epochs += 1\n",
        "        if eps > 8 :\n",
        "          with output_grid.output_to(0, 0):\n",
        "            output_grid.clear_cell()\n",
        "            print(f\"Episode:\", eps+1)\n",
        "            env.render()  \n",
        "          time.sleep(2)\n",
        "    total_reward.append(r) \n",
        "    total_eps.append(epochs) \n",
        "\n",
        "plt.plot(total_reward)\n",
        "plt.title('Rewards vs Episodes')\n",
        "plt.xlabel('Episodes')\n",
        "plt.ylabel('Rewards') \n",
        "plt.figure()      \n",
        "\n",
        "print(\"TEST done!\\n\")"
      ],
      "metadata": {
        "colab": {
          "base_uri": "https://localhost:8080/",
          "height": 616
        },
        "id": "z5jjcQpSOmAf",
        "outputId": "4970ac28-9d29-4dc0-be34-a774f3044ec0"
      },
      "execution_count": null,
      "outputs": [
        {
          "output_type": "display_data",
          "data": {
            "application/javascript": [
              "window[\"a6ebc27a-9e4e-11ec-813c-0242ac1c0002\"] = google.colab.output.getActiveOutputArea();\n",
              "//# sourceURL=js_6f32ee808b"
            ],
            "text/plain": [
              "<IPython.core.display.Javascript object>"
            ]
          },
          "metadata": {}
        },
        {
          "output_type": "display_data",
          "data": {
            "application/javascript": [
              "window[\"a6ec852a-9e4e-11ec-813c-0242ac1c0002\"] = document.querySelector(\"#id78-0-0\");\n",
              "//# sourceURL=js_12046e38de"
            ],
            "text/plain": [
              "<IPython.core.display.Javascript object>"
            ]
          },
          "metadata": {}
        },
        {
          "output_type": "display_data",
          "data": {
            "application/javascript": [
              "window[\"a6ef4256-9e4e-11ec-813c-0242ac1c0002\"] = google.colab.output.setActiveOutputArea(window[\"a6ec852a-9e4e-11ec-813c-0242ac1c0002\"]);\n",
              "//# sourceURL=js_e54e4a0569"
            ],
            "text/plain": [
              "<IPython.core.display.Javascript object>"
            ]
          },
          "metadata": {}
        },
        {
          "output_type": "display_data",
          "data": {
            "application/javascript": [
              "window[\"a72eea0a-9e4e-11ec-813c-0242ac1c0002\"] = google.colab.output.setActiveOutputArea(window[\"a6ebc27a-9e4e-11ec-813c-0242ac1c0002\"]);\n",
              "//# sourceURL=js_3c9f87eef2"
            ],
            "text/plain": [
              "<IPython.core.display.Javascript object>"
            ]
          },
          "metadata": {}
        },
        {
          "output_type": "display_data",
          "data": {
            "application/javascript": [
              "window[\"a8685514-9e4e-11ec-813c-0242ac1c0002\"] = google.colab.output.getActiveOutputArea();\n",
              "//# sourceURL=js_d523c9a554"
            ],
            "text/plain": [
              "<IPython.core.display.Javascript object>"
            ]
          },
          "metadata": {}
        },
        {
          "output_type": "display_data",
          "data": {
            "application/javascript": [
              "window[\"a86a8cc6-9e4e-11ec-813c-0242ac1c0002\"] = document.querySelector(\"#id78-0-0\");\n",
              "//# sourceURL=js_5867372f73"
            ],
            "text/plain": [
              "<IPython.core.display.Javascript object>"
            ]
          },
          "metadata": {}
        },
        {
          "output_type": "display_data",
          "data": {
            "application/javascript": [
              "window[\"a86b35b8-9e4e-11ec-813c-0242ac1c0002\"] = google.colab.output.setActiveOutputArea(window[\"a86a8cc6-9e4e-11ec-813c-0242ac1c0002\"]);\n",
              "//# sourceURL=js_504a81e10e"
            ],
            "text/plain": [
              "<IPython.core.display.Javascript object>"
            ]
          },
          "metadata": {}
        },
        {
          "output_type": "display_data",
          "data": {
            "application/javascript": [
              "window[\"a8a966da-9e4e-11ec-813c-0242ac1c0002\"] = google.colab.output.setActiveOutputArea(window[\"a8685514-9e4e-11ec-813c-0242ac1c0002\"]);\n",
              "//# sourceURL=js_67545aec76"
            ],
            "text/plain": [
              "<IPython.core.display.Javascript object>"
            ]
          },
          "metadata": {}
        },
        {
          "output_type": "display_data",
          "data": {
            "application/javascript": [
              "window[\"a9dfb69e-9e4e-11ec-813c-0242ac1c0002\"] = google.colab.output.getActiveOutputArea();\n",
              "//# sourceURL=js_3e2459f84e"
            ],
            "text/plain": [
              "<IPython.core.display.Javascript object>"
            ]
          },
          "metadata": {}
        },
        {
          "output_type": "display_data",
          "data": {
            "application/javascript": [
              "window[\"a9e0a978-9e4e-11ec-813c-0242ac1c0002\"] = document.querySelector(\"#id78-0-0\");\n",
              "//# sourceURL=js_c9eab99629"
            ],
            "text/plain": [
              "<IPython.core.display.Javascript object>"
            ]
          },
          "metadata": {}
        },
        {
          "output_type": "display_data",
          "data": {
            "application/javascript": [
              "window[\"a9e120c4-9e4e-11ec-813c-0242ac1c0002\"] = google.colab.output.setActiveOutputArea(window[\"a9e0a978-9e4e-11ec-813c-0242ac1c0002\"]);\n",
              "//# sourceURL=js_10ad9acb77"
            ],
            "text/plain": [
              "<IPython.core.display.Javascript object>"
            ]
          },
          "metadata": {}
        },
        {
          "output_type": "display_data",
          "data": {
            "application/javascript": [
              "window[\"aa2367c2-9e4e-11ec-813c-0242ac1c0002\"] = google.colab.output.setActiveOutputArea(window[\"a9dfb69e-9e4e-11ec-813c-0242ac1c0002\"]);\n",
              "//# sourceURL=js_a8854373d9"
            ],
            "text/plain": [
              "<IPython.core.display.Javascript object>"
            ]
          },
          "metadata": {}
        },
        {
          "output_type": "display_data",
          "data": {
            "application/javascript": [
              "window[\"ab5859e0-9e4e-11ec-813c-0242ac1c0002\"] = google.colab.output.getActiveOutputArea();\n",
              "//# sourceURL=js_8ca1b428a3"
            ],
            "text/plain": [
              "<IPython.core.display.Javascript object>"
            ]
          },
          "metadata": {}
        },
        {
          "output_type": "display_data",
          "data": {
            "application/javascript": [
              "window[\"ab5903f4-9e4e-11ec-813c-0242ac1c0002\"] = document.querySelector(\"#id78-0-0\");\n",
              "//# sourceURL=js_f4e95d3979"
            ],
            "text/plain": [
              "<IPython.core.display.Javascript object>"
            ]
          },
          "metadata": {}
        },
        {
          "output_type": "display_data",
          "data": {
            "application/javascript": [
              "window[\"ab59805e-9e4e-11ec-813c-0242ac1c0002\"] = google.colab.output.setActiveOutputArea(window[\"ab5903f4-9e4e-11ec-813c-0242ac1c0002\"]);\n",
              "//# sourceURL=js_ac6e2c7ad5"
            ],
            "text/plain": [
              "<IPython.core.display.Javascript object>"
            ]
          },
          "metadata": {}
        },
        {
          "output_type": "display_data",
          "data": {
            "application/javascript": [
              "window[\"ab78e41c-9e4e-11ec-813c-0242ac1c0002\"] = google.colab.output.setActiveOutputArea(window[\"ab5859e0-9e4e-11ec-813c-0242ac1c0002\"]);\n",
              "//# sourceURL=js_06eca9e695"
            ],
            "text/plain": [
              "<IPython.core.display.Javascript object>"
            ]
          },
          "metadata": {}
        },
        {
          "output_type": "display_data",
          "data": {
            "application/javascript": [
              "window[\"acacac10-9e4e-11ec-813c-0242ac1c0002\"] = google.colab.output.getActiveOutputArea();\n",
              "//# sourceURL=js_b416742f82"
            ],
            "text/plain": [
              "<IPython.core.display.Javascript object>"
            ]
          },
          "metadata": {}
        },
        {
          "output_type": "display_data",
          "data": {
            "application/javascript": [
              "window[\"acacf1c0-9e4e-11ec-813c-0242ac1c0002\"] = document.querySelector(\"#id78-0-0\");\n",
              "//# sourceURL=js_3e91c7c9d4"
            ],
            "text/plain": [
              "<IPython.core.display.Javascript object>"
            ]
          },
          "metadata": {}
        },
        {
          "output_type": "display_data",
          "data": {
            "application/javascript": [
              "window[\"acad8ba8-9e4e-11ec-813c-0242ac1c0002\"] = google.colab.output.setActiveOutputArea(window[\"acacf1c0-9e4e-11ec-813c-0242ac1c0002\"]);\n",
              "//# sourceURL=js_5aac10f2d8"
            ],
            "text/plain": [
              "<IPython.core.display.Javascript object>"
            ]
          },
          "metadata": {}
        },
        {
          "output_type": "display_data",
          "data": {
            "application/javascript": [
              "window[\"accba4d0-9e4e-11ec-813c-0242ac1c0002\"] = google.colab.output.setActiveOutputArea(window[\"acacac10-9e4e-11ec-813c-0242ac1c0002\"]);\n",
              "//# sourceURL=js_ad05ec6385"
            ],
            "text/plain": [
              "<IPython.core.display.Javascript object>"
            ]
          },
          "metadata": {}
        },
        {
          "output_type": "display_data",
          "data": {
            "application/javascript": [
              "window[\"ae028ab2-9e4e-11ec-813c-0242ac1c0002\"] = google.colab.output.getActiveOutputArea();\n",
              "//# sourceURL=js_2a22a28428"
            ],
            "text/plain": [
              "<IPython.core.display.Javascript object>"
            ]
          },
          "metadata": {}
        },
        {
          "output_type": "display_data",
          "data": {
            "application/javascript": [
              "window[\"ae02f3c6-9e4e-11ec-813c-0242ac1c0002\"] = document.querySelector(\"#id78-0-0\");\n",
              "//# sourceURL=js_08ccb51cf0"
            ],
            "text/plain": [
              "<IPython.core.display.Javascript object>"
            ]
          },
          "metadata": {}
        },
        {
          "output_type": "display_data",
          "data": {
            "application/javascript": [
              "window[\"ae037d6e-9e4e-11ec-813c-0242ac1c0002\"] = google.colab.output.setActiveOutputArea(window[\"ae02f3c6-9e4e-11ec-813c-0242ac1c0002\"]);\n",
              "//# sourceURL=js_a047e03856"
            ],
            "text/plain": [
              "<IPython.core.display.Javascript object>"
            ]
          },
          "metadata": {}
        },
        {
          "output_type": "display_data",
          "data": {
            "application/javascript": [
              "window[\"ae22a9fa-9e4e-11ec-813c-0242ac1c0002\"] = google.colab.output.setActiveOutputArea(window[\"ae028ab2-9e4e-11ec-813c-0242ac1c0002\"]);\n",
              "//# sourceURL=js_102dd7c00e"
            ],
            "text/plain": [
              "<IPython.core.display.Javascript object>"
            ]
          },
          "metadata": {}
        },
        {
          "output_type": "display_data",
          "data": {
            "application/javascript": [
              "window[\"af58fcf2-9e4e-11ec-813c-0242ac1c0002\"] = google.colab.output.getActiveOutputArea();\n",
              "//# sourceURL=js_a2bbb90c94"
            ],
            "text/plain": [
              "<IPython.core.display.Javascript object>"
            ]
          },
          "metadata": {}
        },
        {
          "output_type": "display_data",
          "data": {
            "application/javascript": [
              "window[\"af5959d6-9e4e-11ec-813c-0242ac1c0002\"] = document.querySelector(\"#id78-0-0\");\n",
              "//# sourceURL=js_fbfce105b7"
            ],
            "text/plain": [
              "<IPython.core.display.Javascript object>"
            ]
          },
          "metadata": {}
        },
        {
          "output_type": "display_data",
          "data": {
            "application/javascript": [
              "window[\"af59ec8e-9e4e-11ec-813c-0242ac1c0002\"] = google.colab.output.setActiveOutputArea(window[\"af5959d6-9e4e-11ec-813c-0242ac1c0002\"]);\n",
              "//# sourceURL=js_12641ae66f"
            ],
            "text/plain": [
              "<IPython.core.display.Javascript object>"
            ]
          },
          "metadata": {}
        },
        {
          "output_type": "display_data",
          "data": {
            "application/javascript": [
              "window[\"af78fbba-9e4e-11ec-813c-0242ac1c0002\"] = google.colab.output.setActiveOutputArea(window[\"af58fcf2-9e4e-11ec-813c-0242ac1c0002\"]);\n",
              "//# sourceURL=js_4d2b3442ad"
            ],
            "text/plain": [
              "<IPython.core.display.Javascript object>"
            ]
          },
          "metadata": {}
        },
        {
          "output_type": "display_data",
          "data": {
            "application/javascript": [
              "window[\"b0acfaea-9e4e-11ec-813c-0242ac1c0002\"] = google.colab.output.getActiveOutputArea();\n",
              "//# sourceURL=js_e6c77d0b0f"
            ],
            "text/plain": [
              "<IPython.core.display.Javascript object>"
            ]
          },
          "metadata": {}
        },
        {
          "output_type": "display_data",
          "data": {
            "application/javascript": [
              "window[\"b0ad43b0-9e4e-11ec-813c-0242ac1c0002\"] = document.querySelector(\"#id78-0-0\");\n",
              "//# sourceURL=js_022b942b1b"
            ],
            "text/plain": [
              "<IPython.core.display.Javascript object>"
            ]
          },
          "metadata": {}
        },
        {
          "output_type": "display_data",
          "data": {
            "application/javascript": [
              "window[\"b0ad887a-9e4e-11ec-813c-0242ac1c0002\"] = google.colab.output.setActiveOutputArea(window[\"b0ad43b0-9e4e-11ec-813c-0242ac1c0002\"]);\n",
              "//# sourceURL=js_179e84f993"
            ],
            "text/plain": [
              "<IPython.core.display.Javascript object>"
            ]
          },
          "metadata": {}
        },
        {
          "output_type": "stream",
          "name": "stdout",
          "text": [
            "Episode: 10\n"
          ]
        },
        {
          "output_type": "display_data",
          "data": {
            "image/png": "[encoded data removed]",
            "text/plain": [
              "<Figure size 432x288 with 1 Axes>"
            ]
          },
          "metadata": {
            "needs_background": "light"
          }
        },
        {
          "output_type": "display_data",
          "data": {
            "application/javascript": [
              "window[\"b0c9dd7c-9e4e-11ec-813c-0242ac1c0002\"] = google.colab.output.setActiveOutputArea(window[\"b0acfaea-9e4e-11ec-813c-0242ac1c0002\"]);\n",
              "//# sourceURL=js_44f16abfac"
            ],
            "text/plain": [
              "<IPython.core.display.Javascript object>"
            ]
          },
          "metadata": {}
        },
        {
          "output_type": "stream",
          "name": "stdout",
          "text": [
            "TEST done!\n",
            "\n"
          ]
        },
        {
          "output_type": "display_data",
          "data": {
            "image/png": "[encoded data removed]",
            "text/plain": [
              "<Figure size 432x288 with 1 Axes>"
            ]
          },
          "metadata": {
            "needs_background": "light"
          }
        },
        {
          "output_type": "display_data",
          "data": {
            "text/plain": [
              "<Figure size 432x288 with 0 Axes>"
            ]
          },
          "metadata": {}
        }
      ]
    },
    {
      "cell_type": "code",
      "source": [
        ""
      ],
      "metadata": {
        "id": "cONFa5VIiC51"
      },
      "execution_count": null,
      "outputs": []
    }
  ],
  "metadata": {
    "colab": {
      "collapsed_sections": [],
      "name": "Stochastic_Q.ipynb",
      "provenance": []
    },
    "kernelspec": {
      "display_name": "Python 3",
      "language": "python",
      "name": "python3"
    },
    "language_info": {
      "codemirror_mode": {
        "name": "ipython",
        "version": 3
      },
      "file_extension": ".py",
      "mimetype": "text/x-python",
      "name": "python",
      "nbconvert_exporter": "python",
      "pygments_lexer": "ipython3",
      "version": "3.9.5"
    }
  },
  "nbformat": 4,
  "nbformat_minor": 0
}