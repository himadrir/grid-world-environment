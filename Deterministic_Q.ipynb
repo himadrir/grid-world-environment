{
  "cells": [
    {
      "cell_type": "code",
      "source": [
        "##\"I certify that the code and data in this assignment were generated independently, using only the tools and resources defined in the course and that I did not receive any external help, coaching or contributions during the production of this work.\""
      ],
      "metadata": {
        "id": "_myralTTpY91"
      },
      "execution_count": 7,
      "outputs": []
    },
    {
      "cell_type": "code",
      "execution_count": 8,
      "metadata": {
        "id": "vzLSDtlzL3mt"
      },
      "outputs": [],
      "source": [
        "import numpy as np\n",
        "import matplotlib.pyplot as plt\n",
        "import gym\n",
        "from gym import spaces"
      ]
    },
    {
      "cell_type": "code",
      "execution_count": 9,
      "metadata": {
        "id": "PfOnKRT7L46q"
      },
      "outputs": [],
      "source": [
        "from google.colab import widgets\n",
        "import time"
      ]
    },
    {
      "cell_type": "code",
      "execution_count": 10,
      "metadata": {
        "id": "vNy_7i2jL8VQ"
      },
      "outputs": [],
      "source": [
        "class GridEnvironment(gym.Env):\n",
        "    metadata = { 'render.modes': [] }\n",
        "    \n",
        "    def __init__(self):\n",
        "        self.observation_space = spaces.Discrete(16)\n",
        "        self.action_space = spaces.Discrete(4)\n",
        "        self.max_timesteps = 170\n",
        "        self.reward= 0\n",
        "\n",
        "    def reset(self):\n",
        "        self.timestep = 0        \n",
        "        self.agent_pos = [0, 0]\n",
        "        self.goal_pos = [3, 3]\n",
        "        self.wall1 = [0,1]\n",
        "        self.wall2 = [0,3]\n",
        "        self.wall3 = [2,2]\n",
        "        self.wall4 = [3,0]\n",
        "        pos= self.agent_pos[0]*4+self.agent_pos[1]\n",
        "        self.state = np.zeros([4,4])\n",
        "        \n",
        "        self.state[tuple(self.goal_pos)] = 3\n",
        "        self.state[tuple(self.wall1)] = 5\n",
        "        self.state[tuple(self.wall2)] = 5\n",
        "        self.state[tuple(self.wall3)] = 5\n",
        "        self.state[tuple(self.wall4)] = 5\n",
        "        self.state[tuple(self.agent_pos)] = 1\n",
        "        self.reward=1\n",
        "        observation = self.state.flatten()\n",
        "        return pos\n",
        "    \n",
        "    def step(self, action):\n",
        "        if action == 0:\n",
        "          self.agent_pos[0] += 1\n",
        "          if self.agent_pos[0] == 4:\n",
        "            self.agent_pos[0] -= 1\n",
        "        if action == 1:\n",
        "          self.agent_pos[0] -= 1\n",
        "          if self.agent_pos[0] == -1:\n",
        "            self.agent_pos[0] += 1\n",
        "        if action == 2:\n",
        "          self.agent_pos[1] += 1\n",
        "          if self.agent_pos[1] == 4:\n",
        "            self.agent_pos[1] -= 1\n",
        "        if action == 3:\n",
        "          self.agent_pos[1] -= 1\n",
        "          if self.agent_pos[1] == -1:\n",
        "            self.agent_pos[1] += 1\n",
        "\n",
        "\n",
        "        state_table=np.array([[0,1,2,3],[4,5,6,7],[8,9,10,11],[12,13,14,15]])\n",
        "        new_pos = state_table[tuple(self.agent_pos)]\n",
        "        self.agent_pos = np.clip(self.agent_pos, 0, 3)\n",
        "        self.state = np.zeros((4,4))\n",
        "        self.state[tuple(self.agent_pos)] = 1\n",
        "        self.state[tuple(self.goal_pos)] = 3\n",
        "        \n",
        "        reward_table= np.array([[-1,-20,-1,-20],[-1,-1,-1,-1],[-1,-1,-20,-1],[-20,-1,-1,100]])\n",
        "        reward= reward_table[tuple(self.agent_pos)]\n",
        "        self.timestep += 1\n",
        "        done = True if new_pos == 15 else False #check if terminal or not \n",
        "        info = {}\n",
        "        return new_pos, reward, done, info\n",
        "        \n",
        "    def render(self):\n",
        "        \n",
        "        self.state[tuple(self.goal_pos)] = 3\n",
        "        self.state[tuple(self.wall1)] = 5\n",
        "        self.state[tuple(self.wall2)] = 5\n",
        "        self.state[tuple(self.wall3)] = 5\n",
        "        self.state[tuple(self.wall4)] = 5\n",
        "\n",
        "        self.state[tuple(self.agent_pos)] = 1\n",
        "        plt.imshow(self.state)"
      ]
    },
    {
      "cell_type": "code",
      "source": [
        "from matplotlib import figure\n",
        "env = GridEnvironment()\n",
        "# Q_Table\n",
        "q_table = np.zeros([env.observation_space.n, env.action_space.n])\n",
        "output_grid = widgets.Grid(1, 1)\n",
        "alpha = 0.1\n",
        "gamma = 0.9\n",
        "epsilon = 1\n",
        "\n",
        "\n",
        "total_epochs=0\n",
        "episodes=1000\n",
        "total_timestep = []\n",
        "total_reward = []\n",
        "total_epsilon = []\n",
        "total_steps = []\n",
        "all_epochs = 0\n",
        "\n",
        "\n",
        "for i in range(episodes):\n",
        "    state = env.reset()\n",
        "    r=0\n",
        "    epochs, reward, steps = 0, 0, 0\n",
        "    done = False\n",
        "    \n",
        "    while not done:\n",
        "        if np.random.uniform(0, 1) < epsilon:\n",
        "            action = env.action_space.sample() # Explorative\n",
        "            steps += 1\n",
        "        else:\n",
        "            action = np.argmax(q_table[state]) # Exploitative \n",
        "            steps += 1\n",
        "\n",
        "        next_state, reward, done, info = env.step(action) \n",
        "        \n",
        "        old_value = q_table[state, action]\n",
        "        next_max = np.max(q_table[next_state])\n",
        "        \n",
        "        new_value = (1 - alpha) * old_value + alpha * (reward + gamma * next_max)\n",
        "        q_table[state, action] = new_value\n",
        "\n",
        "        \n",
        "        state = next_state\n",
        "        epochs += 1\n",
        "        r+=reward\n",
        "             \n",
        "    total_timestep.append(epochs)\n",
        "    total_reward.append(r) \n",
        "    total_epochs += epochs\n",
        "    epsilon= np.exp(-4*i/episodes)\n",
        "    total_epsilon.append(epsilon)  \n",
        "    total_steps.append(steps)\n",
        "\n",
        "\n",
        "\n",
        "###       ADD PLOTS HERE\n",
        "plt.plot(total_reward) \n",
        "plt.title('Rewards vs Episodes')\n",
        "plt.xlabel('Episodes')\n",
        "plt.ylabel('Rewards')\n",
        "plt.figure()\n",
        "plt.plot(total_epsilon)\n",
        "plt.title('Epsilon Decay')\n",
        "plt.xlabel('Episodes')\n",
        "plt.ylabel('Episolon Value')\n",
        "plt.figure()         \n",
        "\n",
        "\n",
        "print(\"Q Table:\\n\", q_table)\n",
        "print('Episodes', episodes)\n",
        "print(\"Steps per episode\", np.sum(total_steps)/episodes)\n",
        "\n",
        "\n",
        "plt.plot(total_steps)\n",
        "plt.title(\"Steps vs Episodes\")\n",
        "plt.xlabel('Episodes')\n",
        "plt.ylabel('Steps')\n",
        "plt.figure()\n",
        "\n",
        "\n",
        "print('TRAINING done!\\n')"
      ],
      "metadata": {
        "colab": {
          "base_uri": "https://localhost:8080/",
          "height": 1000
        },
        "id": "8-NTEtM5b9l-",
        "outputId": "2b3fea02-7871-4595-979e-589827b2f5e9"
      },
      "execution_count": 11,
      "outputs": [
        {
          "output_type": "display_data",
          "data": {
            "text/html": [
              "<style>\n",
              "       table#id4, #id4 > tbody > tr > th, #id4 > tbody > tr > td {\n",
              "         border: 1px solid lightgray;\n",
              "         border-collapse:collapse;\n",
              "         \n",
              "        }</style>"
            ],
            "text/plain": [
              "<IPython.core.display.HTML object>"
            ]
          },
          "metadata": {}
        },
        {
          "output_type": "display_data",
          "data": {
            "text/html": [
              "<table id=id4><tr><td id=id4-0-0></td></tr></table>"
            ],
            "text/plain": [
              "<IPython.core.display.HTML object>"
            ]
          },
          "metadata": {}
        },
        {
          "output_type": "stream",
          "name": "stdout",
          "text": [
            "Q Table:\n",
            " [[ 54.9539      48.32412394  35.87565187  48.30862711]\n",
            " [ 62.17063111  27.0436108   51.26444     36.61430387]\n",
            " [ 70.14065252  39.11936256  37.07343295  18.47089118]\n",
            " [ 79.02520673  25.62265236  35.73808101  45.10632823]\n",
            " [ 60.36672831  48.27682823  62.171       54.83526851]\n",
            " [ 69.77281721  35.79736092  70.19        54.85531645]\n",
            " [ 59.98541864  61.77697843  79.1         62.04047588]\n",
            " [ 89.          50.64118626  79.01283895  70.10890276]\n",
            " [ 33.74381634  29.19446372  69.80765873  42.08249367]\n",
            " [ 79.09098959  53.14485385  44.77121303  44.97539487]\n",
            " [ 86.9359985   61.31522317  88.99810618  53.99430996]\n",
            " [100.          79.01613154  88.91170335  59.92182686]\n",
            " [ 16.94045496  32.05557976  76.89582559  21.73466008]\n",
            " [ 75.89930675  61.11394336  88.99836452  41.08365052]\n",
            " [ 82.75847499  51.72188307  99.99980932  76.44187921]\n",
            " [  0.           0.           0.           0.        ]]\n",
            "Episodes 1000\n",
            "Steps per episode 10.092\n",
            "TRAINING done!\n",
            "\n"
          ]
        },
        {
          "output_type": "display_data",
          "data": {
            "image/png": "[encoded data removed]",
            "text/plain": [
              "<Figure size 432x288 with 1 Axes>"
            ]
          },
          "metadata": {
            "needs_background": "light"
          }
        },
        {
          "output_type": "display_data",
          "data": {
            "image/png": "[encoded data removed]",
            "text/plain": [
              "<Figure size 432x288 with 1 Axes>"
            ]
          },
          "metadata": {
            "needs_background": "light"
          }
        },
        {
          "output_type": "display_data",
          "data": {
            "image/png": "[encoded data removed]",
            "text/plain": [
              "<Figure size 432x288 with 1 Axes>"
            ]
          },
          "metadata": {
            "needs_background": "light"
          }
        },
        {
          "output_type": "display_data",
          "data": {
            "text/plain": [
              "<Figure size 432x288 with 0 Axes>"
            ]
          },
          "metadata": {}
        }
      ]
    },
    {
      "cell_type": "code",
      "source": [
        "episodes = 10\n",
        "total_reward=[]\n",
        "total_episode =[]\n",
        "total_epsilon = []\n",
        "\n",
        "\n",
        "for eps in range(episodes):\n",
        "    r = 0\n",
        "    state = env.reset()\n",
        "    epochs, reward = 0, 0   \n",
        "    done = False    \n",
        "    while not done:\n",
        "        action = np.argmax(q_table[state])\n",
        "        state, reward, done, info = env.step(action)\n",
        "        r += reward    \n",
        "        epochs += 1\n",
        "        if eps > 8 :\n",
        "          with output_grid.output_to(0, 0):\n",
        "            output_grid.clear_cell()\n",
        "            print(f\"Episode:\", eps+1)\n",
        "            env.render()  \n",
        "          time.sleep(2)\n",
        "    total_reward.append(r) \n",
        "    total_episode.append(epochs) \n",
        "\n",
        "plt.plot(total_reward)\n",
        "plt.title('Rewards vs Episodes')\n",
        "plt.xlabel('Episodes')\n",
        "plt.ylabel('Rewards') \n",
        "plt.figure()      \n",
        "\n",
        "print(\"TEST Done!\\n\")"
      ],
      "metadata": {
        "colab": {
          "base_uri": "https://localhost:8080/",
          "height": 286
        },
        "id": "z5jjcQpSOmAf",
        "outputId": "f707fd34-dbd7-4818-f439-1d99d153ab2e"
      },
      "execution_count": null,
      "outputs": [
        {
          "output_type": "display_data",
          "data": {
            "application/javascript": [
              "window[\"cf0c5e5c-9e55-11ec-afb9-0242ac1c0002\"] = google.colab.output.getActiveOutputArea();\n",
              "//# sourceURL=js_10a083707f"
            ],
            "text/plain": [
              "<IPython.core.display.Javascript object>"
            ]
          },
          "metadata": {}
        },
        {
          "output_type": "display_data",
          "data": {
            "application/javascript": [
              "window[\"cf0cb578-9e55-11ec-afb9-0242ac1c0002\"] = document.querySelector(\"#id4-0-0\");\n",
              "//# sourceURL=js_acfa0df2fa"
            ],
            "text/plain": [
              "<IPython.core.display.Javascript object>"
            ]
          },
          "metadata": {}
        },
        {
          "output_type": "display_data",
          "data": {
            "application/javascript": [
              "window[\"cf0d1a2c-9e55-11ec-afb9-0242ac1c0002\"] = google.colab.output.setActiveOutputArea(window[\"cf0cb578-9e55-11ec-afb9-0242ac1c0002\"]);\n",
              "//# sourceURL=js_1ae15c8b7e"
            ],
            "text/plain": [
              "<IPython.core.display.Javascript object>"
            ]
          },
          "metadata": {}
        },
        {
          "output_type": "display_data",
          "data": {
            "application/javascript": [
              "window[\"cf2dbd72-9e55-11ec-afb9-0242ac1c0002\"] = google.colab.output.setActiveOutputArea(window[\"cf0c5e5c-9e55-11ec-afb9-0242ac1c0002\"]);\n",
              "//# sourceURL=js_1a8969ee8e"
            ],
            "text/plain": [
              "<IPython.core.display.Javascript object>"
            ]
          },
          "metadata": {}
        },
        {
          "output_type": "display_data",
          "data": {
            "application/javascript": [
              "window[\"d0631390-9e55-11ec-afb9-0242ac1c0002\"] = google.colab.output.getActiveOutputArea();\n",
              "//# sourceURL=js_b2eb56a784"
            ],
            "text/plain": [
              "<IPython.core.display.Javascript object>"
            ]
          },
          "metadata": {}
        },
        {
          "output_type": "display_data",
          "data": {
            "application/javascript": [
              "window[\"d06378bc-9e55-11ec-afb9-0242ac1c0002\"] = document.querySelector(\"#id4-0-0\");\n",
              "//# sourceURL=js_1645b067fc"
            ],
            "text/plain": [
              "<IPython.core.display.Javascript object>"
            ]
          },
          "metadata": {}
        },
        {
          "output_type": "display_data",
          "data": {
            "application/javascript": [
              "window[\"d063e9aa-9e55-11ec-afb9-0242ac1c0002\"] = google.colab.output.setActiveOutputArea(window[\"d06378bc-9e55-11ec-afb9-0242ac1c0002\"]);\n",
              "//# sourceURL=js_7fcde9a97c"
            ],
            "text/plain": [
              "<IPython.core.display.Javascript object>"
            ]
          },
          "metadata": {}
        },
        {
          "output_type": "stream",
          "name": "stdout",
          "text": [
            "Episode: 10\n"
          ]
        },
        {
          "output_type": "display_data",
          "data": {
            "image/png": "[encoded data removed]",
            "text/plain": [
              "<Figure size 432x288 with 1 Axes>"
            ]
          },
          "metadata": {
            "needs_background": "light"
          }
        },
        {
          "output_type": "display_data",
          "data": {
            "application/javascript": [
              "window[\"d0808646-9e55-11ec-afb9-0242ac1c0002\"] = google.colab.output.setActiveOutputArea(window[\"d0631390-9e55-11ec-afb9-0242ac1c0002\"]);\n",
              "//# sourceURL=js_5412d393f0"
            ],
            "text/plain": [
              "<IPython.core.display.Javascript object>"
            ]
          },
          "metadata": {}
        }
      ]
    },
    {
      "cell_type": "code",
      "source": [
        ""
      ],
      "metadata": {
        "id": "cONFa5VIiC51"
      },
      "execution_count": null,
      "outputs": []
    }
  ],
  "metadata": {
    "colab": {
      "collapsed_sections": [],
      "name": "Deterministic_Q.ipynb",
      "provenance": []
    },
    "kernelspec": {
      "display_name": "Python 3",
      "language": "python",
      "name": "python3"
    },
    "language_info": {
      "codemirror_mode": {
        "name": "ipython",
        "version": 3
      },
      "file_extension": ".py",
      "mimetype": "text/x-python",
      "name": "python",
      "nbconvert_exporter": "python",
      "pygments_lexer": "ipython3",
      "version": "3.9.5"
    }
  },
  "nbformat": 4,
  "nbformat_minor": 0
}