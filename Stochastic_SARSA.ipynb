{
  "nbformat": 4,
  "nbformat_minor": 0,
  "metadata": {
    "colab": {
      "name": "Stochastic_SARSA.ipynb",
      "provenance": [],
      "collapsed_sections": []
    },
    "kernelspec": {
      "name": "python3",
      "display_name": "Python 3"
    },
    "language_info": {
      "name": "python"
    }
  },
  "cells": [
    {
      "cell_type": "code",
      "execution_count": 1,
      "metadata": {
        "id": "l2GyBtJgi8h6"
      },
      "outputs": [],
      "source": [
        "##\"I certify that the code and data in this assignment were generated independently, using only the tools and resources defined in the course and that I did not receive any external help, coaching or contributions during the production of this work.\""
      ]
    },
    {
      "cell_type": "code",
      "source": [
        "import numpy as np\n",
        "import matplotlib.pyplot as plt\n",
        "import gym\n",
        "from gym import spaces\n",
        "from google.colab import widgets\n",
        "import time"
      ],
      "metadata": {
        "id": "rYd6dUn7kBgm"
      },
      "execution_count": 2,
      "outputs": []
    },
    {
      "cell_type": "code",
      "source": [
        "class GridEnvironment(gym.Env):\n",
        "    metadata = { 'render.modes': [] }\n",
        "    \n",
        "    def __init__(self):\n",
        "        self.observation_space = spaces.Discrete(16)\n",
        "        self.action_space = spaces.Discrete(4)\n",
        "        self.actions_available = [0, 1, 2, 3]\n",
        "        self.max_timesteps = 250\n",
        "        self.reward= 0\n",
        "        self.agent_xc = 0\n",
        "        self.agent_yc = 0\n",
        "        self.deterministic = True\n",
        "\n",
        "    def reset(self):\n",
        "        self.timestep = 0\n",
        "        self.agent_pos = [0, 0]\n",
        "        pos = (self.agent_xc, self.agent_yc)\n",
        "        self.goal_pos = [3, 3]\n",
        "        self.wall1 = [0,1]\n",
        "        self.wall2 = [0,3]\n",
        "        self.wall3 = [2,2]\n",
        "        self.wall4 = [3,0]\n",
        "        self.state = np.zeros([4,4])\n",
        "        \n",
        "        self.state[tuple(self.goal_pos)] = 3\n",
        "        self.state[tuple(self.wall1)] = 5\n",
        "        self.state[tuple(self.wall2)] = 5\n",
        "        self.state[tuple(self.wall3)] = 5\n",
        "        self.state[tuple(self.wall4)] = 5\n",
        "        self.state[tuple(self.agent_pos)] = 1\n",
        "        self.reward=0\n",
        "        observation = self.state.flatten()\n",
        "        return pos\n",
        "    \n",
        "    def step(self, action):\n",
        "        if action == 0:\n",
        "          self.agent_pos[0] += 1\n",
        "          if self.agent_pos[0] == 4: #check if agent is at the corner\n",
        "            self.agent_pos[0] -= 1\n",
        "\n",
        "        if action == 1:\n",
        "          self.agent_pos[0] -= 1\n",
        "          if self.agent_pos[0] == -1:\n",
        "            self.agent_pos[0] += 1\n",
        "\n",
        "        if action == 2:\n",
        "          self.agent_pos[1] += 1\n",
        "          if self.agent_pos[1] == 4:\n",
        "            self.agent_pos[1] -= 1\n",
        "\n",
        "        if action == 3:\n",
        "          self.agent_pos[1] -= 1\n",
        "          if self.agent_pos[1] == -1:\n",
        "            self.agent_pos[1] += 1\n",
        "\n",
        "      \n",
        "\n",
        "\n",
        "        state_table=np.array([[0,1,2,3],[4,5,6,7],[8,9,10,11],[12,13,14,15]])\n",
        "        npos = state_table[tuple(self.agent_pos)]\n",
        "        self.agent_pos = np.clip(self.agent_pos, 0, 3)\n",
        "        self.state = np.zeros((4,4))\n",
        "        \n",
        "        self.state[tuple(self.goal_pos)] = 3\n",
        "        self.state[tuple(self.agent_pos)] = 1\n",
        "\n",
        "        reward_table= np.array([[-1,-50,-1,-50],[-1,-1,-1,-1],[-1,-1,-50,-1],[-50,-1,-1,100]])\n",
        "        reward= reward_table[tuple(self.agent_pos)]\n",
        "        self.timestep += 1\n",
        "        done = True if npos == 15 else False #terminal state reached\n",
        "        info = {}\n",
        "        return npos, reward, done, info\n",
        "        \n",
        "    def render(self):\n",
        "        self.state[tuple(self.goal_pos)] = 3\n",
        "        self.state[tuple(self.wall1)] = 5\n",
        "        self.state[tuple(self.wall2)] = 5\n",
        "        self.state[tuple(self.wall3)] = 5\n",
        "        self.state[tuple(self.wall4)] = 5\n",
        "        self.state[tuple(self.agent_pos)] = 1\n",
        "        plt.imshow(self.state)\n",
        "\n",
        "    def stochastic(self, action):\n",
        "        if action == 0 :\n",
        "          return np.random.choice([0,1,2,3], p=[0.91, 0.03, 0.03, 0.03])\n",
        "\n",
        "        elif action == 1 :\n",
        "          return np.random.choice([0,1,2,3], p=[0.03, 0.91, 0.03, 0.03])  \n",
        "\n",
        "        elif action == 2 :\n",
        "          return np.random.choice([0,1,2,3], p=[0.03, 0.03, 0.91, 0.03])\n",
        "\n",
        "        elif action == 3 :\n",
        "          return np.random.choice([0,1,2,3], p=[0.03, 0.03, 0.03, 0.91])"
      ],
      "metadata": {
        "id": "ujxxpoO0kIQZ"
      },
      "execution_count": 3,
      "outputs": []
    },
    {
      "cell_type": "code",
      "source": [
        "#SARSA Algorithm\n",
        "from matplotlib import figure\n",
        "env = GridEnvironment()\n",
        "#Creating a Q_Table\n",
        "q1_table = np.zeros([env.observation_space.n, env.action_space.n])\n",
        "output_grid = widgets.Grid(1, 1)\n",
        "alpha = 0.1\n",
        "gamma = 0.6\n",
        "epsilon = 0.9\n",
        "\n",
        "# For plotting metrics\n",
        "total_epochs=0\n",
        "episodes=1000\n",
        "total_episodes = []\n",
        "total_rewards = []\n",
        "total_alpha=[]\n",
        "\n",
        "total_penalties = 0\n",
        "def choose_action(state):\n",
        "    action=0\n",
        "    if np.random.uniform(0, 1) < epsilon:\n",
        "        action = env.action_space.sample()\n",
        "    else:\n",
        "        action = np.argmax(q1_table[state, :])\n",
        "    return action\n",
        "\n",
        "for i in range(episodes):\n",
        "    old_state = env.reset()\n",
        "    old_action = choose_action(old_state)\n",
        "    r=0\n",
        "    epochs, penalties, reward, = 0, 0, 0\n",
        "    done = False    \n",
        "    while not done:\n",
        "        new_state, reward, done, info = env.step(old_action) \n",
        "        new_action = choose_action(new_state)  \n",
        "        stochastic_action = env.stochastic(new_action)        \n",
        "        #Learning the Q-value\n",
        "        q1_table[old_state, old_action] = q1_table[old_state, old_action] + alpha * (reward + gamma * q1_table[new_state, new_action] - q1_table[old_state, old_action])  \n",
        "        old_state = new_state\n",
        "        old_action = stochastic_action\n",
        "        if reward == -1:\n",
        "            penalties += 1\n",
        "        epochs += 1\n",
        "        r += reward                                                              #accumulate rewards\n",
        "        if(i > 998 ):                                                            #Displays last iteration/Episode\n",
        "          with output_grid.output_to(0, 0):\n",
        "            output_grid.clear_cell()\n",
        "            env.render()\n",
        "          time.sleep(1)        \n",
        "    total_episodes.append(epochs)                                                #Timesteps for each Episode\n",
        "    total_rewards.append(r)                                                      #Rewards for each Episode    \n",
        "    total_epochs += epochs\n",
        "    total_penalties += penalties\n",
        "    epsilon= np.exp(-4*i/episodes)\n",
        "    total_alpha.append(epsilon)  \n",
        "plt.plot(total_rewards)\n",
        "plt.title('Rewards vs Episodes')\n",
        "plt.xlabel('Episodes')\n",
        "plt.ylabel('Rewards') \n",
        "plt.figure()\n",
        "plt.plot(total_alpha)  \n",
        "plt.title('Epsilon Decay')\n",
        "plt.xlabel('Episodes')\n",
        "plt.ylabel('Epislon Value')        \n",
        "\n",
        "print(\"Model Ready! Training finished.\\n\")\n",
        "print(\"Total Episodes: \",episodes)\n",
        "print(\"Total Timesteps: \",total_epochs)\n",
        "print(\"Total Penalties: \", total_penalties)\n",
        "print(\"Average timesteps per episode:\" ,total_epochs / episodes)\n",
        "print(\"Average penalties per episode:\", total_penalties / episodes)\n",
        "print(\"SARSA Table:\\n\", q1_table)\n"
      ],
      "metadata": {
        "colab": {
          "base_uri": "https://localhost:8080/",
          "height": 1000
        },
        "id": "344ubma-kNAz",
        "outputId": "0d297f24-cf94-4ffb-dfab-0b672de5088a"
      },
      "execution_count": 4,
      "outputs": [
        {
          "output_type": "display_data",
          "data": {
            "text/html": [
              "<style>\n",
              "       table#id2, #id2 > tbody > tr > th, #id2 > tbody > tr > td {\n",
              "         border: 1px solid lightgray;\n",
              "         border-collapse:collapse;\n",
              "         \n",
              "        }</style>"
            ],
            "text/plain": [
              "<IPython.core.display.HTML object>"
            ]
          },
          "metadata": {}
        },
        {
          "output_type": "display_data",
          "data": {
            "text/html": [
              "<table id=id2><tr><td id=id2-0-0></td></tr></table>"
            ],
            "text/plain": [
              "<IPython.core.display.HTML object>"
            ]
          },
          "metadata": {}
        },
        {
          "output_type": "display_data",
          "data": {
            "application/javascript": [
              "window[\"87cfe38a-9e53-11ec-aac3-0242ac1c0002\"] = google.colab.output.getActiveOutputArea();\n",
              "//# sourceURL=js_95809c3765"
            ],
            "text/plain": [
              "<IPython.core.display.Javascript object>"
            ]
          },
          "metadata": {}
        },
        {
          "output_type": "display_data",
          "data": {
            "application/javascript": [
              "window[\"87d0f8ec-9e53-11ec-aac3-0242ac1c0002\"] = document.querySelector(\"#id2-0-0\");\n",
              "//# sourceURL=js_b6362ab115"
            ],
            "text/plain": [
              "<IPython.core.display.Javascript object>"
            ]
          },
          "metadata": {}
        },
        {
          "output_type": "display_data",
          "data": {
            "application/javascript": [
              "window[\"87d23720-9e53-11ec-aac3-0242ac1c0002\"] = google.colab.output.setActiveOutputArea(window[\"87d0f8ec-9e53-11ec-aac3-0242ac1c0002\"]);\n",
              "//# sourceURL=js_e9c791f3c4"
            ],
            "text/plain": [
              "<IPython.core.display.Javascript object>"
            ]
          },
          "metadata": {}
        },
        {
          "output_type": "display_data",
          "data": {
            "application/javascript": [
              "window[\"883ef2e8-9e53-11ec-aac3-0242ac1c0002\"] = google.colab.output.setActiveOutputArea(window[\"87cfe38a-9e53-11ec-aac3-0242ac1c0002\"]);\n",
              "//# sourceURL=js_b9eb97bfdb"
            ],
            "text/plain": [
              "<IPython.core.display.Javascript object>"
            ]
          },
          "metadata": {}
        },
        {
          "output_type": "display_data",
          "data": {
            "application/javascript": [
              "window[\"88dd7d96-9e53-11ec-aac3-0242ac1c0002\"] = google.colab.output.getActiveOutputArea();\n",
              "//# sourceURL=js_edd55a08bf"
            ],
            "text/plain": [
              "<IPython.core.display.Javascript object>"
            ]
          },
          "metadata": {}
        },
        {
          "output_type": "display_data",
          "data": {
            "application/javascript": [
              "window[\"88decbc4-9e53-11ec-aac3-0242ac1c0002\"] = document.querySelector(\"#id2-0-0\");\n",
              "//# sourceURL=js_03aec02b53"
            ],
            "text/plain": [
              "<IPython.core.display.Javascript object>"
            ]
          },
          "metadata": {}
        },
        {
          "output_type": "display_data",
          "data": {
            "application/javascript": [
              "window[\"88e04a3a-9e53-11ec-aac3-0242ac1c0002\"] = google.colab.output.setActiveOutputArea(window[\"88decbc4-9e53-11ec-aac3-0242ac1c0002\"]);\n",
              "//# sourceURL=js_980f86266f"
            ],
            "text/plain": [
              "<IPython.core.display.Javascript object>"
            ]
          },
          "metadata": {}
        },
        {
          "output_type": "display_data",
          "data": {
            "application/javascript": [
              "window[\"8937613a-9e53-11ec-aac3-0242ac1c0002\"] = google.colab.output.setActiveOutputArea(window[\"88dd7d96-9e53-11ec-aac3-0242ac1c0002\"]);\n",
              "//# sourceURL=js_0aee9198ff"
            ],
            "text/plain": [
              "<IPython.core.display.Javascript object>"
            ]
          },
          "metadata": {}
        },
        {
          "output_type": "display_data",
          "data": {
            "application/javascript": [
              "window[\"89d4ba7a-9e53-11ec-aac3-0242ac1c0002\"] = google.colab.output.getActiveOutputArea();\n",
              "//# sourceURL=js_f69c5c93b0"
            ],
            "text/plain": [
              "<IPython.core.display.Javascript object>"
            ]
          },
          "metadata": {}
        },
        {
          "output_type": "display_data",
          "data": {
            "application/javascript": [
              "window[\"89d66154-9e53-11ec-aac3-0242ac1c0002\"] = document.querySelector(\"#id2-0-0\");\n",
              "//# sourceURL=js_95b4ac4556"
            ],
            "text/plain": [
              "<IPython.core.display.Javascript object>"
            ]
          },
          "metadata": {}
        },
        {
          "output_type": "display_data",
          "data": {
            "application/javascript": [
              "window[\"89d6cad6-9e53-11ec-aac3-0242ac1c0002\"] = google.colab.output.setActiveOutputArea(window[\"89d66154-9e53-11ec-aac3-0242ac1c0002\"]);\n",
              "//# sourceURL=js_6ce83cf56e"
            ],
            "text/plain": [
              "<IPython.core.display.Javascript object>"
            ]
          },
          "metadata": {}
        },
        {
          "output_type": "display_data",
          "data": {
            "application/javascript": [
              "window[\"8a28720a-9e53-11ec-aac3-0242ac1c0002\"] = google.colab.output.setActiveOutputArea(window[\"89d4ba7a-9e53-11ec-aac3-0242ac1c0002\"]);\n",
              "//# sourceURL=js_af6f137126"
            ],
            "text/plain": [
              "<IPython.core.display.Javascript object>"
            ]
          },
          "metadata": {}
        },
        {
          "output_type": "display_data",
          "data": {
            "application/javascript": [
              "window[\"8ac39eec-9e53-11ec-aac3-0242ac1c0002\"] = google.colab.output.getActiveOutputArea();\n",
              "//# sourceURL=js_ed4de18c8f"
            ],
            "text/plain": [
              "<IPython.core.display.Javascript object>"
            ]
          },
          "metadata": {}
        },
        {
          "output_type": "display_data",
          "data": {
            "application/javascript": [
              "window[\"8ac41ebc-9e53-11ec-aac3-0242ac1c0002\"] = document.querySelector(\"#id2-0-0\");\n",
              "//# sourceURL=js_359fcef016"
            ],
            "text/plain": [
              "<IPython.core.display.Javascript object>"
            ]
          },
          "metadata": {}
        },
        {
          "output_type": "display_data",
          "data": {
            "application/javascript": [
              "window[\"8ac48b72-9e53-11ec-aac3-0242ac1c0002\"] = google.colab.output.setActiveOutputArea(window[\"8ac41ebc-9e53-11ec-aac3-0242ac1c0002\"]);\n",
              "//# sourceURL=js_52935f353d"
            ],
            "text/plain": [
              "<IPython.core.display.Javascript object>"
            ]
          },
          "metadata": {}
        },
        {
          "output_type": "display_data",
          "data": {
            "application/javascript": [
              "window[\"8b08e4c0-9e53-11ec-aac3-0242ac1c0002\"] = google.colab.output.setActiveOutputArea(window[\"8ac39eec-9e53-11ec-aac3-0242ac1c0002\"]);\n",
              "//# sourceURL=js_19883e0a9e"
            ],
            "text/plain": [
              "<IPython.core.display.Javascript object>"
            ]
          },
          "metadata": {}
        },
        {
          "output_type": "display_data",
          "data": {
            "application/javascript": [
              "window[\"8ba4285e-9e53-11ec-aac3-0242ac1c0002\"] = google.colab.output.getActiveOutputArea();\n",
              "//# sourceURL=js_3570c913d4"
            ],
            "text/plain": [
              "<IPython.core.display.Javascript object>"
            ]
          },
          "metadata": {}
        },
        {
          "output_type": "display_data",
          "data": {
            "application/javascript": [
              "window[\"8ba49bea-9e53-11ec-aac3-0242ac1c0002\"] = document.querySelector(\"#id2-0-0\");\n",
              "//# sourceURL=js_9636589184"
            ],
            "text/plain": [
              "<IPython.core.display.Javascript object>"
            ]
          },
          "metadata": {}
        },
        {
          "output_type": "display_data",
          "data": {
            "application/javascript": [
              "window[\"8ba627e4-9e53-11ec-aac3-0242ac1c0002\"] = google.colab.output.setActiveOutputArea(window[\"8ba49bea-9e53-11ec-aac3-0242ac1c0002\"]);\n",
              "//# sourceURL=js_a79aac19e0"
            ],
            "text/plain": [
              "<IPython.core.display.Javascript object>"
            ]
          },
          "metadata": {}
        },
        {
          "output_type": "display_data",
          "data": {
            "application/javascript": [
              "window[\"8bebadf0-9e53-11ec-aac3-0242ac1c0002\"] = google.colab.output.setActiveOutputArea(window[\"8ba4285e-9e53-11ec-aac3-0242ac1c0002\"]);\n",
              "//# sourceURL=js_839bd34c73"
            ],
            "text/plain": [
              "<IPython.core.display.Javascript object>"
            ]
          },
          "metadata": {}
        },
        {
          "output_type": "display_data",
          "data": {
            "application/javascript": [
              "window[\"8c87ea4e-9e53-11ec-aac3-0242ac1c0002\"] = google.colab.output.getActiveOutputArea();\n",
              "//# sourceURL=js_f3a7fbc3c1"
            ],
            "text/plain": [
              "<IPython.core.display.Javascript object>"
            ]
          },
          "metadata": {}
        },
        {
          "output_type": "display_data",
          "data": {
            "application/javascript": [
              "window[\"8c891c16-9e53-11ec-aac3-0242ac1c0002\"] = document.querySelector(\"#id2-0-0\");\n",
              "//# sourceURL=js_311ecc3872"
            ],
            "text/plain": [
              "<IPython.core.display.Javascript object>"
            ]
          },
          "metadata": {}
        },
        {
          "output_type": "display_data",
          "data": {
            "application/javascript": [
              "window[\"8c8a7584-9e53-11ec-aac3-0242ac1c0002\"] = google.colab.output.setActiveOutputArea(window[\"8c891c16-9e53-11ec-aac3-0242ac1c0002\"]);\n",
              "//# sourceURL=js_10a40ff710"
            ],
            "text/plain": [
              "<IPython.core.display.Javascript object>"
            ]
          },
          "metadata": {}
        },
        {
          "output_type": "display_data",
          "data": {
            "application/javascript": [
              "window[\"8cc0aed8-9e53-11ec-aac3-0242ac1c0002\"] = google.colab.output.setActiveOutputArea(window[\"8c87ea4e-9e53-11ec-aac3-0242ac1c0002\"]);\n",
              "//# sourceURL=js_d04a8aa62b"
            ],
            "text/plain": [
              "<IPython.core.display.Javascript object>"
            ]
          },
          "metadata": {}
        },
        {
          "output_type": "display_data",
          "data": {
            "application/javascript": [
              "window[\"8d5e8be4-9e53-11ec-aac3-0242ac1c0002\"] = google.colab.output.getActiveOutputArea();\n",
              "//# sourceURL=js_62f97851b0"
            ],
            "text/plain": [
              "<IPython.core.display.Javascript object>"
            ]
          },
          "metadata": {}
        },
        {
          "output_type": "display_data",
          "data": {
            "application/javascript": [
              "window[\"8d5ef804-9e53-11ec-aac3-0242ac1c0002\"] = document.querySelector(\"#id2-0-0\");\n",
              "//# sourceURL=js_68bdb52c17"
            ],
            "text/plain": [
              "<IPython.core.display.Javascript object>"
            ]
          },
          "metadata": {}
        },
        {
          "output_type": "display_data",
          "data": {
            "application/javascript": [
              "window[\"8d5f6154-9e53-11ec-aac3-0242ac1c0002\"] = google.colab.output.setActiveOutputArea(window[\"8d5ef804-9e53-11ec-aac3-0242ac1c0002\"]);\n",
              "//# sourceURL=js_2f430caa31"
            ],
            "text/plain": [
              "<IPython.core.display.Javascript object>"
            ]
          },
          "metadata": {}
        },
        {
          "output_type": "display_data",
          "data": {
            "image/png": "[encoded data removed]",
            "text/plain": [
              "<Figure size 432x288 with 1 Axes>"
            ]
          },
          "metadata": {
            "needs_background": "light"
          }
        },
        {
          "output_type": "display_data",
          "data": {
            "application/javascript": [
              "window[\"8d777244-9e53-11ec-aac3-0242ac1c0002\"] = google.colab.output.setActiveOutputArea(window[\"8d5e8be4-9e53-11ec-aac3-0242ac1c0002\"]);\n",
              "//# sourceURL=js_905a9edc22"
            ],
            "text/plain": [
              "<IPython.core.display.Javascript object>"
            ]
          },
          "metadata": {}
        },
        {
          "output_type": "stream",
          "name": "stdout",
          "text": [
            "Model Ready! Training finished.\n",
            "\n",
            "Total Episodes:  1000\n",
            "Total Timesteps:  14224\n",
            "Total Penalties:  11775\n",
            "Average timesteps per episode: 14.224\n",
            "Average penalties per episode: 11.775\n",
            "SARSA Table:\n",
            " [[  4.7040514   -0.69699735 -49.58593252  -2.96970708]\n",
            " [  5.0068085  -55.40362199 -12.38100037  -7.04422289]\n",
            " [  6.7512548  -16.80547191 -64.05120087 -61.47026696]\n",
            " [ 17.7274721  -58.82599546 -58.86616863 -22.13183646]\n",
            " [  7.67189606   1.33637567   7.26104487   4.2874819 ]\n",
            " [  7.33689843 -55.39245777  13.37958092   0.11416148]\n",
            " [-28.33438633  -6.77161248  31.38370506  -0.87951011]\n",
            " [ 57.71037502 -51.34767361   8.06701502   7.70329268]\n",
            " [-33.62497661   3.68732724  19.42115423   7.92840269]\n",
            " [ 34.07635766   7.94521924 -20.87959209   7.86847507]\n",
            " [ 58.54259705   3.53425982  39.33631018   5.09360181]\n",
            " [ 99.99999997   9.30849081  40.79075041 -29.85844868]\n",
            " [-46.49739704  -7.18164993  33.50936609 -42.97975924]\n",
            " [ 32.91584391  16.52577623  55.94612779 -32.23464177]\n",
            " [ 57.93681413 -18.27680684 100.          30.97344748]\n",
            " [  0.           0.           0.           0.        ]]\n"
          ]
        },
        {
          "output_type": "display_data",
          "data": {
            "image/png": "[encoded data removed]",
            "text/plain": [
              "<Figure size 432x288 with 1 Axes>"
            ]
          },
          "metadata": {
            "needs_background": "light"
          }
        },
        {
          "output_type": "display_data",
          "data": {
            "image/png": "[encoded data removed]",
            "text/plain": [
              "<Figure size 432x288 with 1 Axes>"
            ]
          },
          "metadata": {
            "needs_background": "light"
          }
        }
      ]
    },
    {
      "cell_type": "code",
      "source": [
        "total_epochs, total_penalties = 0, 0\n",
        "episodes = 10\n",
        "totalTestRewards=[]\n",
        "totalTestEpisopdes=[]\n",
        "\n",
        "for abs in range(episodes):\n",
        "    TestRewards=0\n",
        "    state = env.reset()\n",
        "    epochs, totalTestPenalties, reward = 0, 0, 0    \n",
        "    done = False    \n",
        "    while not done:\n",
        "        action = np.argmax(q1_table[state])\n",
        "        stochastic_action = env.stochastic(action)\n",
        "        state, reward, done, info = env.step(stochastic_action)\n",
        "        if reward == -1:\n",
        "            totalTestPenalties += 1\n",
        "        TestRewards += reward    \n",
        "        epochs += 1\n",
        "        if(abs > 8):                   #show last Episode\n",
        "          with output_grid.output_to(0, 0):\n",
        "            output_grid.clear_cell()\n",
        "            print(state)\n",
        "            print(\"Episode:\", abs+1)\n",
        "            env.render()  \n",
        "          time.sleep(1)\n",
        "    total_epochs += epochs\n",
        "    total_penalties += totalTestPenalties\n",
        "    totalTestEpisopdes.append(epochs) #Timesteps for each Episode\n",
        "    totalTestRewards.append(TestRewards) #Rewards for each Episode    \n",
        "plt.plot(totalTestRewards) \n",
        "plt.title('Rewards vs Episodes')\n",
        "plt.xlabel('Episodes')\n",
        "plt.ylabel('Rewards') \n",
        "plt.figure()\n",
        "plt.plot(total_alpha)\n",
        "plt.title('Epsilon Decay')\n",
        "plt.xlabel('Episodes')\n",
        "plt.ylabel('Episolon Value')         \n",
        "print(totalTestPenalties)\n",
        "print(\"Test Done!\\n\")\n",
        "print(\"Total Episodes:\",episodes)\n",
        "print(\"Total Timesteps:\",total_epochs)\n",
        "print(\"Total Penalties:\", total_penalties)\n",
        "print(\"Results after\", episodes, \"episodes:\")\n",
        "print(\"Average timesteps per episode: \",total_epochs / episodes)\n",
        "print(\"Average penalties per episode: \",total_penalties / episodes)"
      ],
      "metadata": {
        "colab": {
          "base_uri": "https://localhost:8080/",
          "height": 1000
        },
        "id": "8S0TTTHbl37c",
        "outputId": "f04db020-375f-4ee2-d902-fe31fc5282e7"
      },
      "execution_count": 7,
      "outputs": [
        {
          "output_type": "display_data",
          "data": {
            "application/javascript": [
              "window[\"ef4a88da-9e53-11ec-aac3-0242ac1c0002\"] = google.colab.output.getActiveOutputArea();\n",
              "//# sourceURL=js_19464eb9a5"
            ],
            "text/plain": [
              "<IPython.core.display.Javascript object>"
            ]
          },
          "metadata": {}
        },
        {
          "output_type": "display_data",
          "data": {
            "application/javascript": [
              "window[\"ef4b0486-9e53-11ec-aac3-0242ac1c0002\"] = document.querySelector(\"#id2-0-0\");\n",
              "//# sourceURL=js_b6570108e2"
            ],
            "text/plain": [
              "<IPython.core.display.Javascript object>"
            ]
          },
          "metadata": {}
        },
        {
          "output_type": "display_data",
          "data": {
            "application/javascript": [
              "window[\"ef4b6458-9e53-11ec-aac3-0242ac1c0002\"] = google.colab.output.setActiveOutputArea(window[\"ef4b0486-9e53-11ec-aac3-0242ac1c0002\"]);\n",
              "//# sourceURL=js_34944618f4"
            ],
            "text/plain": [
              "<IPython.core.display.Javascript object>"
            ]
          },
          "metadata": {}
        },
        {
          "output_type": "display_data",
          "data": {
            "application/javascript": [
              "window[\"ef638358-9e53-11ec-aac3-0242ac1c0002\"] = google.colab.output.setActiveOutputArea(window[\"ef4a88da-9e53-11ec-aac3-0242ac1c0002\"]);\n",
              "//# sourceURL=js_0b2694090d"
            ],
            "text/plain": [
              "<IPython.core.display.Javascript object>"
            ]
          },
          "metadata": {}
        },
        {
          "output_type": "display_data",
          "data": {
            "application/javascript": [
              "window[\"efff2b46-9e53-11ec-aac3-0242ac1c0002\"] = google.colab.output.getActiveOutputArea();\n",
              "//# sourceURL=js_c0ab892865"
            ],
            "text/plain": [
              "<IPython.core.display.Javascript object>"
            ]
          },
          "metadata": {}
        },
        {
          "output_type": "display_data",
          "data": {
            "application/javascript": [
              "window[\"efffb11a-9e53-11ec-aac3-0242ac1c0002\"] = document.querySelector(\"#id2-0-0\");\n",
              "//# sourceURL=js_3d7fb162d1"
            ],
            "text/plain": [
              "<IPython.core.display.Javascript object>"
            ]
          },
          "metadata": {}
        },
        {
          "output_type": "display_data",
          "data": {
            "application/javascript": [
              "window[\"f0004e9a-9e53-11ec-aac3-0242ac1c0002\"] = google.colab.output.setActiveOutputArea(window[\"efffb11a-9e53-11ec-aac3-0242ac1c0002\"]);\n",
              "//# sourceURL=js_fa6ed8789c"
            ],
            "text/plain": [
              "<IPython.core.display.Javascript object>"
            ]
          },
          "metadata": {}
        },
        {
          "output_type": "display_data",
          "data": {
            "application/javascript": [
              "window[\"f018ee14-9e53-11ec-aac3-0242ac1c0002\"] = google.colab.output.setActiveOutputArea(window[\"efff2b46-9e53-11ec-aac3-0242ac1c0002\"]);\n",
              "//# sourceURL=js_bd33202da8"
            ],
            "text/plain": [
              "<IPython.core.display.Javascript object>"
            ]
          },
          "metadata": {}
        },
        {
          "output_type": "display_data",
          "data": {
            "application/javascript": [
              "window[\"f0b7ab30-9e53-11ec-aac3-0242ac1c0002\"] = google.colab.output.getActiveOutputArea();\n",
              "//# sourceURL=js_9bb9cca17f"
            ],
            "text/plain": [
              "<IPython.core.display.Javascript object>"
            ]
          },
          "metadata": {}
        },
        {
          "output_type": "display_data",
          "data": {
            "application/javascript": [
              "window[\"f0b81cf0-9e53-11ec-aac3-0242ac1c0002\"] = document.querySelector(\"#id2-0-0\");\n",
              "//# sourceURL=js_8a341bdf9a"
            ],
            "text/plain": [
              "<IPython.core.display.Javascript object>"
            ]
          },
          "metadata": {}
        },
        {
          "output_type": "display_data",
          "data": {
            "application/javascript": [
              "window[\"f0b8be62-9e53-11ec-aac3-0242ac1c0002\"] = google.colab.output.setActiveOutputArea(window[\"f0b81cf0-9e53-11ec-aac3-0242ac1c0002\"]);\n",
              "//# sourceURL=js_dafc2651ac"
            ],
            "text/plain": [
              "<IPython.core.display.Javascript object>"
            ]
          },
          "metadata": {}
        },
        {
          "output_type": "display_data",
          "data": {
            "application/javascript": [
              "window[\"f0d232a2-9e53-11ec-aac3-0242ac1c0002\"] = google.colab.output.setActiveOutputArea(window[\"f0b7ab30-9e53-11ec-aac3-0242ac1c0002\"]);\n",
              "//# sourceURL=js_c39f7ac73f"
            ],
            "text/plain": [
              "<IPython.core.display.Javascript object>"
            ]
          },
          "metadata": {}
        },
        {
          "output_type": "display_data",
          "data": {
            "application/javascript": [
              "window[\"f16d71e0-9e53-11ec-aac3-0242ac1c0002\"] = google.colab.output.getActiveOutputArea();\n",
              "//# sourceURL=js_0515764d05"
            ],
            "text/plain": [
              "<IPython.core.display.Javascript object>"
            ]
          },
          "metadata": {}
        },
        {
          "output_type": "display_data",
          "data": {
            "application/javascript": [
              "window[\"f16dc49c-9e53-11ec-aac3-0242ac1c0002\"] = document.querySelector(\"#id2-0-0\");\n",
              "//# sourceURL=js_5edc17ecdb"
            ],
            "text/plain": [
              "<IPython.core.display.Javascript object>"
            ]
          },
          "metadata": {}
        },
        {
          "output_type": "display_data",
          "data": {
            "application/javascript": [
              "window[\"f16e3b66-9e53-11ec-aac3-0242ac1c0002\"] = google.colab.output.setActiveOutputArea(window[\"f16dc49c-9e53-11ec-aac3-0242ac1c0002\"]);\n",
              "//# sourceURL=js_83b3371815"
            ],
            "text/plain": [
              "<IPython.core.display.Javascript object>"
            ]
          },
          "metadata": {}
        },
        {
          "output_type": "display_data",
          "data": {
            "application/javascript": [
              "window[\"f18700a6-9e53-11ec-aac3-0242ac1c0002\"] = google.colab.output.setActiveOutputArea(window[\"f16d71e0-9e53-11ec-aac3-0242ac1c0002\"]);\n",
              "//# sourceURL=js_adab0dd560"
            ],
            "text/plain": [
              "<IPython.core.display.Javascript object>"
            ]
          },
          "metadata": {}
        },
        {
          "output_type": "display_data",
          "data": {
            "application/javascript": [
              "window[\"f22293fe-9e53-11ec-aac3-0242ac1c0002\"] = google.colab.output.getActiveOutputArea();\n",
              "//# sourceURL=js_f8cd299f1d"
            ],
            "text/plain": [
              "<IPython.core.display.Javascript object>"
            ]
          },
          "metadata": {}
        },
        {
          "output_type": "display_data",
          "data": {
            "application/javascript": [
              "window[\"f222eac0-9e53-11ec-aac3-0242ac1c0002\"] = document.querySelector(\"#id2-0-0\");\n",
              "//# sourceURL=js_0436af7feb"
            ],
            "text/plain": [
              "<IPython.core.display.Javascript object>"
            ]
          },
          "metadata": {}
        },
        {
          "output_type": "display_data",
          "data": {
            "application/javascript": [
              "window[\"f2237896-9e53-11ec-aac3-0242ac1c0002\"] = google.colab.output.setActiveOutputArea(window[\"f222eac0-9e53-11ec-aac3-0242ac1c0002\"]);\n",
              "//# sourceURL=js_87855e6fe6"
            ],
            "text/plain": [
              "<IPython.core.display.Javascript object>"
            ]
          },
          "metadata": {}
        },
        {
          "output_type": "display_data",
          "data": {
            "application/javascript": [
              "window[\"f2402630-9e53-11ec-aac3-0242ac1c0002\"] = google.colab.output.setActiveOutputArea(window[\"f22293fe-9e53-11ec-aac3-0242ac1c0002\"]);\n",
              "//# sourceURL=js_bbf4fcfb97"
            ],
            "text/plain": [
              "<IPython.core.display.Javascript object>"
            ]
          },
          "metadata": {}
        },
        {
          "output_type": "display_data",
          "data": {
            "application/javascript": [
              "window[\"f2dc75e4-9e53-11ec-aac3-0242ac1c0002\"] = google.colab.output.getActiveOutputArea();\n",
              "//# sourceURL=js_b56eae518e"
            ],
            "text/plain": [
              "<IPython.core.display.Javascript object>"
            ]
          },
          "metadata": {}
        },
        {
          "output_type": "display_data",
          "data": {
            "application/javascript": [
              "window[\"f2dddfec-9e53-11ec-aac3-0242ac1c0002\"] = document.querySelector(\"#id2-0-0\");\n",
              "//# sourceURL=js_cf02bdb326"
            ],
            "text/plain": [
              "<IPython.core.display.Javascript object>"
            ]
          },
          "metadata": {}
        },
        {
          "output_type": "display_data",
          "data": {
            "application/javascript": [
              "window[\"f2de62fa-9e53-11ec-aac3-0242ac1c0002\"] = google.colab.output.setActiveOutputArea(window[\"f2dddfec-9e53-11ec-aac3-0242ac1c0002\"]);\n",
              "//# sourceURL=js_40102e1294"
            ],
            "text/plain": [
              "<IPython.core.display.Javascript object>"
            ]
          },
          "metadata": {}
        },
        {
          "output_type": "display_data",
          "data": {
            "application/javascript": [
              "window[\"f2f72678-9e53-11ec-aac3-0242ac1c0002\"] = google.colab.output.setActiveOutputArea(window[\"f2dc75e4-9e53-11ec-aac3-0242ac1c0002\"]);\n",
              "//# sourceURL=js_82a0a77abb"
            ],
            "text/plain": [
              "<IPython.core.display.Javascript object>"
            ]
          },
          "metadata": {}
        },
        {
          "output_type": "display_data",
          "data": {
            "application/javascript": [
              "window[\"f392694e-9e53-11ec-aac3-0242ac1c0002\"] = google.colab.output.getActiveOutputArea();\n",
              "//# sourceURL=js_1c80747ea7"
            ],
            "text/plain": [
              "<IPython.core.display.Javascript object>"
            ]
          },
          "metadata": {}
        },
        {
          "output_type": "display_data",
          "data": {
            "application/javascript": [
              "window[\"f392f062-9e53-11ec-aac3-0242ac1c0002\"] = document.querySelector(\"#id2-0-0\");\n",
              "//# sourceURL=js_70976d0f05"
            ],
            "text/plain": [
              "<IPython.core.display.Javascript object>"
            ]
          },
          "metadata": {}
        },
        {
          "output_type": "display_data",
          "data": {
            "application/javascript": [
              "window[\"f3938f68-9e53-11ec-aac3-0242ac1c0002\"] = google.colab.output.setActiveOutputArea(window[\"f392f062-9e53-11ec-aac3-0242ac1c0002\"]);\n",
              "//# sourceURL=js_bdd151de1a"
            ],
            "text/plain": [
              "<IPython.core.display.Javascript object>"
            ]
          },
          "metadata": {}
        },
        {
          "output_type": "display_data",
          "data": {
            "application/javascript": [
              "window[\"f3adad94-9e53-11ec-aac3-0242ac1c0002\"] = google.colab.output.setActiveOutputArea(window[\"f392694e-9e53-11ec-aac3-0242ac1c0002\"]);\n",
              "//# sourceURL=js_c1a9da7fba"
            ],
            "text/plain": [
              "<IPython.core.display.Javascript object>"
            ]
          },
          "metadata": {}
        },
        {
          "output_type": "display_data",
          "data": {
            "application/javascript": [
              "window[\"f44976de-9e53-11ec-aac3-0242ac1c0002\"] = google.colab.output.getActiveOutputArea();\n",
              "//# sourceURL=js_7b22d59252"
            ],
            "text/plain": [
              "<IPython.core.display.Javascript object>"
            ]
          },
          "metadata": {}
        },
        {
          "output_type": "display_data",
          "data": {
            "application/javascript": [
              "window[\"f44aa6ee-9e53-11ec-aac3-0242ac1c0002\"] = document.querySelector(\"#id2-0-0\");\n",
              "//# sourceURL=js_67d6f8b150"
            ],
            "text/plain": [
              "<IPython.core.display.Javascript object>"
            ]
          },
          "metadata": {}
        },
        {
          "output_type": "display_data",
          "data": {
            "application/javascript": [
              "window[\"f44afea0-9e53-11ec-aac3-0242ac1c0002\"] = google.colab.output.setActiveOutputArea(window[\"f44aa6ee-9e53-11ec-aac3-0242ac1c0002\"]);\n",
              "//# sourceURL=js_bfb5b16a8d"
            ],
            "text/plain": [
              "<IPython.core.display.Javascript object>"
            ]
          },
          "metadata": {}
        },
        {
          "output_type": "stream",
          "name": "stdout",
          "text": [
            "15\n",
            "Episode: 10\n"
          ]
        },
        {
          "output_type": "display_data",
          "data": {
            "image/png": "[encoded data removed]",
            "text/plain": [
              "<Figure size 432x288 with 1 Axes>"
            ]
          },
          "metadata": {
            "needs_background": "light"
          }
        },
        {
          "output_type": "display_data",
          "data": {
            "application/javascript": [
              "window[\"f4659b84-9e53-11ec-aac3-0242ac1c0002\"] = google.colab.output.setActiveOutputArea(window[\"f44976de-9e53-11ec-aac3-0242ac1c0002\"]);\n",
              "//# sourceURL=js_4cdc16426f"
            ],
            "text/plain": [
              "<IPython.core.display.Javascript object>"
            ]
          },
          "metadata": {}
        },
        {
          "output_type": "stream",
          "name": "stdout",
          "text": [
            "7\n",
            "Test Done!\n",
            "\n",
            "Total Episodes: 10\n",
            "Total Timesteps: 81\n",
            "Total Penalties: 67\n",
            "Results after 10 episodes:\n",
            "Average timesteps per episode:  8.1\n",
            "Average penalties per episode:  6.7\n"
          ]
        },
        {
          "output_type": "display_data",
          "data": {
            "image/png": "[encoded data removed]",
            "text/plain": [
              "<Figure size 432x288 with 1 Axes>"
            ]
          },
          "metadata": {
            "needs_background": "light"
          }
        },
        {
          "output_type": "display_data",
          "data": {
            "image/png": "[encoded data removed]",
            "text/plain": [
              "<Figure size 432x288 with 1 Axes>"
            ]
          },
          "metadata": {
            "needs_background": "light"
          }
        }
      ]
    },
    {
      "cell_type": "code",
      "source": [
        ""
      ],
      "metadata": {
        "id": "nbUpz9HonOKy"
      },
      "execution_count": 5,
      "outputs": []
    }
  ]
}